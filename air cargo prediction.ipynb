{
 "cells": [
  {
   "cell_type": "code",
   "execution_count": 1,
   "id": "c8e3e013-2372-42c5-8c15-053ce4ec07ec",
   "metadata": {},
   "outputs": [],
   "source": [
    "import pandas as pd\n",
    "import numpy as np\n",
    "from sklearn.model_selection import train_test_split\n",
    "from sklearn.metrics import accuracy_score"
   ]
  },
  {
   "cell_type": "code",
   "execution_count": 2,
   "id": "e718b3b5-a666-4ca3-84a0-28efdc0f01a3",
   "metadata": {},
   "outputs": [],
   "source": [
    "df=pd.read_excel(\"air cargo supplychain.xlsx\")"
   ]
  },
  {
   "cell_type": "code",
   "execution_count": 3,
   "id": "bcdef9a3-72f9-42f7-9ab5-882311d4d645",
   "metadata": {},
   "outputs": [
    {
     "data": {
      "text/html": [
       "<div>\n",
       "<style scoped>\n",
       "    .dataframe tbody tr th:only-of-type {\n",
       "        vertical-align: middle;\n",
       "    }\n",
       "\n",
       "    .dataframe tbody tr th {\n",
       "        vertical-align: top;\n",
       "    }\n",
       "\n",
       "    .dataframe thead th {\n",
       "        text-align: right;\n",
       "    }\n",
       "</style>\n",
       "<table border=\"1\" class=\"dataframe\">\n",
       "  <thead>\n",
       "    <tr style=\"text-align: right;\">\n",
       "      <th></th>\n",
       "      <th>Shipment ID</th>\n",
       "      <th>Origin Airport</th>\n",
       "      <th>Destination Airport</th>\n",
       "      <th>Shipment Weight (kg)</th>\n",
       "      <th>Shipment Volume (m³)</th>\n",
       "      <th>Freight Cost (USD)</th>\n",
       "      <th>Mode of Transport</th>\n",
       "      <th>Carrier Name</th>\n",
       "      <th>Transit Time (hours)</th>\n",
       "      <th>Temperature-Sensitive</th>\n",
       "      <th>Perishable Goods</th>\n",
       "      <th>Customs Clearance Time (hours)</th>\n",
       "      <th>Weather Conditions</th>\n",
       "      <th>Day of Week</th>\n",
       "      <th>Delay Status</th>\n",
       "    </tr>\n",
       "  </thead>\n",
       "  <tbody>\n",
       "    <tr>\n",
       "      <th>0</th>\n",
       "      <td>SHIP000001</td>\n",
       "      <td>SFO</td>\n",
       "      <td>LHR</td>\n",
       "      <td>655.03</td>\n",
       "      <td>7.80</td>\n",
       "      <td>1238.23</td>\n",
       "      <td>Air</td>\n",
       "      <td>UPS</td>\n",
       "      <td>16</td>\n",
       "      <td>No</td>\n",
       "      <td>Yes</td>\n",
       "      <td>7</td>\n",
       "      <td>Clear</td>\n",
       "      <td>Thursday</td>\n",
       "      <td>Delayed</td>\n",
       "    </tr>\n",
       "    <tr>\n",
       "      <th>1</th>\n",
       "      <td>SHIP000002</td>\n",
       "      <td>ATL</td>\n",
       "      <td>SIN</td>\n",
       "      <td>988.60</td>\n",
       "      <td>37.41</td>\n",
       "      <td>1868.80</td>\n",
       "      <td>Air</td>\n",
       "      <td>Lufthansa Cargo</td>\n",
       "      <td>21</td>\n",
       "      <td>No</td>\n",
       "      <td>No</td>\n",
       "      <td>5</td>\n",
       "      <td>Clear</td>\n",
       "      <td>Thursday</td>\n",
       "      <td>On-Time</td>\n",
       "    </tr>\n",
       "    <tr>\n",
       "      <th>2</th>\n",
       "      <td>SHIP000003</td>\n",
       "      <td>DFW</td>\n",
       "      <td>HKG</td>\n",
       "      <td>637.71</td>\n",
       "      <td>10.53</td>\n",
       "      <td>1205.49</td>\n",
       "      <td>Air</td>\n",
       "      <td>FedEx</td>\n",
       "      <td>6</td>\n",
       "      <td>No</td>\n",
       "      <td>No</td>\n",
       "      <td>36</td>\n",
       "      <td>Clear</td>\n",
       "      <td>Wednesday</td>\n",
       "      <td>On-Time</td>\n",
       "    </tr>\n",
       "    <tr>\n",
       "      <th>3</th>\n",
       "      <td>SHIP000004</td>\n",
       "      <td>SFO</td>\n",
       "      <td>DXB</td>\n",
       "      <td>367.47</td>\n",
       "      <td>7.70</td>\n",
       "      <td>694.65</td>\n",
       "      <td>Rail</td>\n",
       "      <td>DHL</td>\n",
       "      <td>17</td>\n",
       "      <td>Yes</td>\n",
       "      <td>No</td>\n",
       "      <td>16</td>\n",
       "      <td>Rainy</td>\n",
       "      <td>Sunday</td>\n",
       "      <td>On-Time</td>\n",
       "    </tr>\n",
       "    <tr>\n",
       "      <th>4</th>\n",
       "      <td>SHIP000005</td>\n",
       "      <td>ORD</td>\n",
       "      <td>HKG</td>\n",
       "      <td>671.23</td>\n",
       "      <td>3.59</td>\n",
       "      <td>1268.86</td>\n",
       "      <td>Air</td>\n",
       "      <td>DHL</td>\n",
       "      <td>36</td>\n",
       "      <td>No</td>\n",
       "      <td>No</td>\n",
       "      <td>3</td>\n",
       "      <td>Rainy</td>\n",
       "      <td>Friday</td>\n",
       "      <td>Delayed</td>\n",
       "    </tr>\n",
       "    <tr>\n",
       "      <th>...</th>\n",
       "      <td>...</td>\n",
       "      <td>...</td>\n",
       "      <td>...</td>\n",
       "      <td>...</td>\n",
       "      <td>...</td>\n",
       "      <td>...</td>\n",
       "      <td>...</td>\n",
       "      <td>...</td>\n",
       "      <td>...</td>\n",
       "      <td>...</td>\n",
       "      <td>...</td>\n",
       "      <td>...</td>\n",
       "      <td>...</td>\n",
       "      <td>...</td>\n",
       "      <td>...</td>\n",
       "    </tr>\n",
       "    <tr>\n",
       "      <th>19995</th>\n",
       "      <td>SHIP019996</td>\n",
       "      <td>ATL</td>\n",
       "      <td>DXB</td>\n",
       "      <td>158.99</td>\n",
       "      <td>10.97</td>\n",
       "      <td>300.55</td>\n",
       "      <td>Air</td>\n",
       "      <td>UPS</td>\n",
       "      <td>36</td>\n",
       "      <td>Yes</td>\n",
       "      <td>Yes</td>\n",
       "      <td>32</td>\n",
       "      <td>Clear</td>\n",
       "      <td>Monday</td>\n",
       "      <td>Delayed</td>\n",
       "    </tr>\n",
       "    <tr>\n",
       "      <th>19996</th>\n",
       "      <td>SHIP019997</td>\n",
       "      <td>MIA</td>\n",
       "      <td>NRT</td>\n",
       "      <td>655.74</td>\n",
       "      <td>42.92</td>\n",
       "      <td>1239.58</td>\n",
       "      <td>Air</td>\n",
       "      <td>FedEx</td>\n",
       "      <td>46</td>\n",
       "      <td>Yes</td>\n",
       "      <td>No</td>\n",
       "      <td>28</td>\n",
       "      <td>Foggy</td>\n",
       "      <td>Friday</td>\n",
       "      <td>On-Time</td>\n",
       "    </tr>\n",
       "    <tr>\n",
       "      <th>19997</th>\n",
       "      <td>SHIP019998</td>\n",
       "      <td>LAX</td>\n",
       "      <td>LHR</td>\n",
       "      <td>711.80</td>\n",
       "      <td>29.54</td>\n",
       "      <td>1345.55</td>\n",
       "      <td>Air</td>\n",
       "      <td>UPS</td>\n",
       "      <td>30</td>\n",
       "      <td>Yes</td>\n",
       "      <td>No</td>\n",
       "      <td>16</td>\n",
       "      <td>Clear</td>\n",
       "      <td>Monday</td>\n",
       "      <td>On-Time</td>\n",
       "    </tr>\n",
       "    <tr>\n",
       "      <th>19998</th>\n",
       "      <td>SHIP019999</td>\n",
       "      <td>DFW</td>\n",
       "      <td>HKG</td>\n",
       "      <td>147.04</td>\n",
       "      <td>4.38</td>\n",
       "      <td>277.96</td>\n",
       "      <td>Rail</td>\n",
       "      <td>FedEx</td>\n",
       "      <td>16</td>\n",
       "      <td>No</td>\n",
       "      <td>No</td>\n",
       "      <td>19</td>\n",
       "      <td>Clear</td>\n",
       "      <td>Thursday</td>\n",
       "      <td>On-Time</td>\n",
       "    </tr>\n",
       "    <tr>\n",
       "      <th>19999</th>\n",
       "      <td>SHIP020000</td>\n",
       "      <td>SFO</td>\n",
       "      <td>CDG</td>\n",
       "      <td>261.57</td>\n",
       "      <td>7.08</td>\n",
       "      <td>494.46</td>\n",
       "      <td>Rail</td>\n",
       "      <td>DHL</td>\n",
       "      <td>18</td>\n",
       "      <td>Yes</td>\n",
       "      <td>No</td>\n",
       "      <td>39</td>\n",
       "      <td>Clear</td>\n",
       "      <td>Friday</td>\n",
       "      <td>On-Time</td>\n",
       "    </tr>\n",
       "  </tbody>\n",
       "</table>\n",
       "<p>20000 rows × 15 columns</p>\n",
       "</div>"
      ],
      "text/plain": [
       "      Shipment ID Origin Airport Destination Airport  Shipment Weight (kg)  \\\n",
       "0      SHIP000001            SFO                 LHR                655.03   \n",
       "1      SHIP000002            ATL                 SIN                988.60   \n",
       "2      SHIP000003            DFW                 HKG                637.71   \n",
       "3      SHIP000004            SFO                 DXB                367.47   \n",
       "4      SHIP000005            ORD                 HKG                671.23   \n",
       "...           ...            ...                 ...                   ...   \n",
       "19995  SHIP019996            ATL                 DXB                158.99   \n",
       "19996  SHIP019997            MIA                 NRT                655.74   \n",
       "19997  SHIP019998            LAX                 LHR                711.80   \n",
       "19998  SHIP019999            DFW                 HKG                147.04   \n",
       "19999  SHIP020000            SFO                 CDG                261.57   \n",
       "\n",
       "       Shipment Volume (m³)  Freight Cost (USD) Mode of Transport  \\\n",
       "0                      7.80             1238.23               Air   \n",
       "1                     37.41             1868.80               Air   \n",
       "2                     10.53             1205.49               Air   \n",
       "3                      7.70              694.65              Rail   \n",
       "4                      3.59             1268.86               Air   \n",
       "...                     ...                 ...               ...   \n",
       "19995                 10.97              300.55               Air   \n",
       "19996                 42.92             1239.58               Air   \n",
       "19997                 29.54             1345.55               Air   \n",
       "19998                  4.38              277.96              Rail   \n",
       "19999                  7.08              494.46              Rail   \n",
       "\n",
       "          Carrier Name  Transit Time (hours) Temperature-Sensitive  \\\n",
       "0                  UPS                    16                    No   \n",
       "1      Lufthansa Cargo                    21                    No   \n",
       "2                FedEx                     6                    No   \n",
       "3                  DHL                    17                   Yes   \n",
       "4                  DHL                    36                    No   \n",
       "...                ...                   ...                   ...   \n",
       "19995              UPS                    36                   Yes   \n",
       "19996            FedEx                    46                   Yes   \n",
       "19997              UPS                    30                   Yes   \n",
       "19998            FedEx                    16                    No   \n",
       "19999              DHL                    18                   Yes   \n",
       "\n",
       "      Perishable Goods  Customs Clearance Time (hours) Weather Conditions  \\\n",
       "0                  Yes                               7              Clear   \n",
       "1                   No                               5              Clear   \n",
       "2                   No                              36              Clear   \n",
       "3                   No                              16              Rainy   \n",
       "4                   No                               3              Rainy   \n",
       "...                ...                             ...                ...   \n",
       "19995              Yes                              32              Clear   \n",
       "19996               No                              28              Foggy   \n",
       "19997               No                              16              Clear   \n",
       "19998               No                              19              Clear   \n",
       "19999               No                              39              Clear   \n",
       "\n",
       "      Day of Week Delay Status  \n",
       "0        Thursday      Delayed  \n",
       "1        Thursday      On-Time  \n",
       "2       Wednesday      On-Time  \n",
       "3          Sunday      On-Time  \n",
       "4          Friday      Delayed  \n",
       "...           ...          ...  \n",
       "19995      Monday      Delayed  \n",
       "19996      Friday      On-Time  \n",
       "19997      Monday      On-Time  \n",
       "19998    Thursday      On-Time  \n",
       "19999      Friday      On-Time  \n",
       "\n",
       "[20000 rows x 15 columns]"
      ]
     },
     "execution_count": 3,
     "metadata": {},
     "output_type": "execute_result"
    }
   ],
   "source": [
    "df"
   ]
  },
  {
   "cell_type": "code",
   "execution_count": 4,
   "id": "4e8b8a35-80be-497c-bd0a-ee8bf3a25e81",
   "metadata": {},
   "outputs": [],
   "source": [
    "df = df.drop(columns=\"Shipment ID\")"
   ]
  },
  {
   "cell_type": "code",
   "execution_count": 5,
   "id": "4009d8b8-093f-4e71-bdd8-a0de96e31abb",
   "metadata": {},
   "outputs": [],
   "source": [
    "categorical_cols = df.select_dtypes(include=['object']).columns.tolist()\n",
    "\n",
    "df = pd.get_dummies(df, columns=categorical_cols, drop_first=True).astype(int)"
   ]
  },
  {
   "cell_type": "code",
   "execution_count": 6,
   "id": "355d0162-23ee-4e74-be80-47b765a2b2e9",
   "metadata": {},
   "outputs": [],
   "source": [
    "X = df.drop(columns=[\"Delay Status_On-Time\"])\n",
    "y = df[\"Delay Status_On-Time\"]"
   ]
  },
  {
   "cell_type": "code",
   "execution_count": 7,
   "id": "010bf1d0-c91a-4ad2-b1c7-d6bfc9178cbd",
   "metadata": {},
   "outputs": [],
   "source": [
    "from sklearn.linear_model import LinearRegression\n",
    "from sklearn.metrics import mean_squared_error, r2_score"
   ]
  },
  {
   "cell_type": "code",
   "execution_count": 8,
   "id": "2d0b7490-f459-42ba-82f9-1021d48e8e8a",
   "metadata": {},
   "outputs": [],
   "source": [
    "X_train, X_test, y_train, y_test = train_test_split(X, y, test_size=0.3, random_state=250)\n",
    "\n",
    "mlr_reg = LinearRegression()\n",
    "\n",
    "mlr_reg.fit(X_train, y_train)\n",
    "y_pred_mlr = mlr_reg.predict(X_test)\n",
    "\n",
    "mse = mean_squared_error(y_test, y_pred_mlr)\n",
    "r2 = r2_score(y_test, y_pred_mlr)"
   ]
  },
  {
   "cell_type": "code",
   "execution_count": 9,
   "id": "552d92ab-0d98-4bff-b25d-81f1e7d7bd94",
   "metadata": {},
   "outputs": [
    {
     "name": "stdout",
     "output_type": "stream",
     "text": [
      "Mean Squared Error: 0.25169568937302106\n",
      "R-squared Score: -0.006827505381212351\n"
     ]
    }
   ],
   "source": [
    "print(\"Mean Squared Error:\", mse)\n",
    "print(\"R-squared Score:\", r2)"
   ]
  },
  {
   "cell_type": "code",
   "execution_count": 10,
   "id": "4911f494-4f43-47ea-914c-b6eca4538697",
   "metadata": {},
   "outputs": [],
   "source": [
    "from sklearn.linear_model import LogisticRegression\n",
    "from sklearn.preprocessing import StandardScaler"
   ]
  },
  {
   "cell_type": "code",
   "execution_count": 11,
   "id": "2122e7d5-88ed-4659-a608-f61952824474",
   "metadata": {},
   "outputs": [
    {
     "data": {
      "text/plain": [
       "0.53"
      ]
     },
     "execution_count": 11,
     "metadata": {},
     "output_type": "execute_result"
    }
   ],
   "source": [
    "X_train, X_test, y_train, y_test = train_test_split(X, y, test_size=0.05, random_state=1000)\n",
    "\n",
    "scaler = StandardScaler()\n",
    "X_train = scaler.fit_transform(X_train)\n",
    "X_test = scaler.transform(X_test)\n",
    "\n",
    "log_reg = LogisticRegression(C=2.5)\n",
    "\n",
    "log_reg.fit(X_train, y_train)\n",
    "y_pred_log = log_reg.predict(X_test)\n",
    "\n",
    "log_reg_acc = accuracy_score(y_test, y_pred_log)\n",
    "log_reg_acc"
   ]
  },
  {
   "cell_type": "code",
   "execution_count": 12,
   "id": "b2b8f06a-8b7a-473d-964a-730636a91735",
   "metadata": {},
   "outputs": [
    {
     "data": {
      "text/plain": [
       "0.488"
      ]
     },
     "execution_count": 12,
     "metadata": {},
     "output_type": "execute_result"
    }
   ],
   "source": [
    "from sklearn.tree import DecisionTreeClassifier\n",
    "\n",
    "X_train, X_test, y_train, y_test = train_test_split(X, y, test_size=0.05, random_state=1000)\n",
    "\n",
    "dt_clf = DecisionTreeClassifier()\n",
    "dt_clf.fit(X_train, y_train)\n",
    "y_pred_dt = dt_clf.predict(X_test)\n",
    "\n",
    "dt_clf_acc = accuracy_score(y_test, y_pred_dt)\n",
    "\n",
    "dt_clf_acc"
   ]
  },
  {
   "cell_type": "code",
   "execution_count": 13,
   "id": "174c29e0-1836-4cfc-a322-9cd8cf27c378",
   "metadata": {},
   "outputs": [
    {
     "data": {
      "text/plain": [
       "0.507"
      ]
     },
     "execution_count": 13,
     "metadata": {},
     "output_type": "execute_result"
    }
   ],
   "source": [
    "from sklearn.ensemble import RandomForestClassifier\n",
    "\n",
    "X_train, X_test, y_train, y_test = train_test_split(X, y, test_size=0.05, random_state=1000, stratify=y)\n",
    "\n",
    "rf_clf = RandomForestClassifier()\n",
    "rf_clf.fit(X_train, y_train)\n",
    "y_pred_rf = rf_clf.predict(X_test)\n",
    "\n",
    "rf_clf_acc = accuracy_score(y_test, y_pred_rf)\n",
    "rf_clf_acc"
   ]
  },
  {
   "cell_type": "code",
   "execution_count": 14,
   "id": "0077285a-7826-4877-a366-18936661395f",
   "metadata": {},
   "outputs": [
    {
     "name": "stdout",
     "output_type": "stream",
     "text": [
      "Defaulting to user installation because normal site-packages is not writeableNote: you may need to restart the kernel to use updated packages.\n",
      "\n",
      "Requirement already satisfied: xgboost in c:\\users\\abhinay\\appdata\\roaming\\python\\python312\\site-packages (2.1.4)\n",
      "Requirement already satisfied: numpy in c:\\programdata\\anaconda3\\lib\\site-packages (from xgboost) (1.26.4)\n",
      "Requirement already satisfied: scipy in c:\\programdata\\anaconda3\\lib\\site-packages (from xgboost) (1.13.1)\n"
     ]
    }
   ],
   "source": [
    "pip install xgboost"
   ]
  },
  {
   "cell_type": "code",
   "execution_count": 15,
   "id": "8b4d272b-7788-404d-b6f2-72ffc9e0a0d2",
   "metadata": {},
   "outputs": [],
   "source": [
    "from xgboost import XGBClassifier"
   ]
  },
  {
   "cell_type": "code",
   "execution_count": 16,
   "id": "357dee80-6700-4e83-8ac3-202be2099826",
   "metadata": {},
   "outputs": [
    {
     "data": {
      "text/plain": [
       "0.517"
      ]
     },
     "execution_count": 16,
     "metadata": {},
     "output_type": "execute_result"
    }
   ],
   "source": [
    "X_train, X_test, y_train, y_test = train_test_split(X, y, test_size=0.05, random_state=1000, stratify=y)\n",
    "\n",
    "xb_clf = XGBClassifier()\n",
    "xb_clf.fit(X_train, y_train)\n",
    "y_pred_xb = xb_clf.predict(X_test)\n",
    "\n",
    "xb_clf_acc = accuracy_score(y_test, y_pred_xb)\n",
    "xb_clf_acc"
   ]
  },
  {
   "cell_type": "code",
   "execution_count": 17,
   "id": "87421a70-1514-4173-b593-38efedc1cc22",
   "metadata": {},
   "outputs": [
    {
     "data": {
      "text/plain": [
       "0.503"
      ]
     },
     "execution_count": 17,
     "metadata": {},
     "output_type": "execute_result"
    }
   ],
   "source": [
    "from sklearn.svm import SVC\n",
    "\n",
    "X_train, X_test, y_train, y_test = train_test_split(X, y, test_size=0.05, random_state=1000, stratify=y)\n",
    "\n",
    "svc_clf = SVC()\n",
    "svc_clf.fit(X_train, y_train)\n",
    "y_pred_svc = svc_clf.predict(X_test)\n",
    "\n",
    "svc_clf_acc = accuracy_score(y_test, y_pred_svc)\n",
    "svc_clf_acc"
   ]
  },
  {
   "cell_type": "code",
   "execution_count": 18,
   "id": "a1a256ef-cce9-484f-af98-2cf2ab4e8c0d",
   "metadata": {},
   "outputs": [],
   "source": [
    "import matplotlib.pyplot as plt\n",
    "import seaborn as sns"
   ]
  },
  {
   "cell_type": "code",
   "execution_count": 19,
   "id": "77f1ec1b-a1b1-4c97-b62b-2c46abf1c1aa",
   "metadata": {},
   "outputs": [
    {
     "name": "stderr",
     "output_type": "stream",
     "text": [
      "C:\\Users\\Abhinay\\AppData\\Local\\Temp\\ipykernel_14572\\149265859.py:3: FutureWarning: \n",
      "\n",
      "Passing `palette` without assigning `hue` is deprecated and will be removed in v0.14.0. Assign the `x` variable to `hue` and set `legend=False` for the same effect.\n",
      "\n",
      "  sns.countplot(x=y, palette=\"coolwarm\")\n"
     ]
    },
    {
     "data": {
      "image/png": "[encoded data removed]",
      "text/plain": [
       "<Figure size 600x400 with 1 Axes>"
      ]
     },
     "metadata": {},
     "output_type": "display_data"
    }
   ],
   "source": [
    "# Data Imbalance Check\n",
    "plt.figure(figsize=(6, 4))\n",
    "sns.countplot(x=y, palette=\"coolwarm\")\n",
    "plt.xlabel(\"On-Time (1) vs. Delayed (0)\")\n",
    "plt.ylabel(\"Count\")\n",
    "plt.title(\"Class Distribution in the Dataset\")\n",
    "plt.show()"
   ]
  },
  {
   "cell_type": "code",
   "execution_count": 20,
   "id": "aaa00b03-d738-4bb7-8883-d8f0860bd690",
   "metadata": {},
   "outputs": [
    {
     "name": "stderr",
     "output_type": "stream",
     "text": [
      "C:\\Users\\Abhinay\\AppData\\Local\\Temp\\ipykernel_14572\\2599681934.py:9: FutureWarning: \n",
      "\n",
      "Passing `palette` without assigning `hue` is deprecated and will be removed in v0.14.0. Assign the `x` variable to `hue` and set `legend=False` for the same effect.\n",
      "\n",
      "  sns.barplot(x=origin_airport_delays.index, y=origin_airport_delays.values, palette=\"magma\")\n"
     ]
    },
    {
     "data": {
      "image/png": "[encoded data removed]",
      "text/plain": [
       "<Figure size 800x400 with 1 Axes>"
      ]
     },
     "metadata": {},
     "output_type": "display_data"
    }
   ],
   "source": [
    "# Extract only the columns related to Origin Airports\n",
    "origin_airport_columns = [col for col in X.columns if \"Origin Airport_\" in col]\n",
    "\n",
    "# Calculate the average delay rate per origin airport\n",
    "origin_airport_delays = X[origin_airport_columns].multiply(1 - y, axis=0).mean().sort_values(ascending=False)\n",
    "\n",
    "# Plot delays by origin airport\n",
    "plt.figure(figsize=(8, 4))\n",
    "sns.barplot(x=origin_airport_delays.index, y=origin_airport_delays.values, palette=\"magma\")\n",
    "plt.xticks(rotation=90)\n",
    "plt.xlabel(\"Origin Airport\")\n",
    "plt.ylabel(\"Average Delay Rate\")\n",
    "plt.title(\"Delay Rate by Origin Airport\")\n",
    "plt.show()\n",
    "\n"
   ]
  },
  {
   "cell_type": "code",
   "execution_count": 21,
   "id": "e001ee72-7440-4ffe-9ed2-bd90cd1b5b36",
   "metadata": {},
   "outputs": [
    {
     "data": {
      "image/png": "[encoded data removed]",
      "text/plain": [
       "<Figure size 800x500 with 1 Axes>"
      ]
     },
     "metadata": {},
     "output_type": "display_data"
    }
   ],
   "source": [
    "\n",
    "# Create a new column for Mode of Transport by checking which transport type is 1\n",
    "df[\"Mode of Transport\"] = df[[\"Mode of Transport_Rail\", \"Mode of Transport_Truck\"]].idxmax(axis=1)\n",
    "\n",
    "# Replace column names with readable values\n",
    "df[\"Mode of Transport\"] = df[\"Mode of Transport\"].replace({\n",
    "    \"Mode of Transport_Rail\": \"Rail\",\n",
    "    \"Mode of Transport_Truck\": \"Truck\"\n",
    "})\n",
    "\n",
    "# Plot\n",
    "plt.figure(figsize=(8, 5))\n",
    "sns.countplot(x=df[\"Mode of Transport\"], hue=df[\"Delay Status_On-Time\"], palette=\"coolwarm\")\n",
    "plt.xlabel(\"Mode of Transport\")\n",
    "plt.ylabel(\"Count\")\n",
    "plt.title(\"Mode of Transport vs Delay Status\")\n",
    "plt.legend(title=\"Delay Status\", labels=[\"Delayed\", \"On-Time\"])\n",
    "plt.xticks(rotation=45)\n",
    "plt.show()\n"
   ]
  },
  {
   "cell_type": "code",
   "execution_count": 22,
   "id": "beea82fc-5917-40ad-997e-b0b4371ff793",
   "metadata": {},
   "outputs": [
    {
     "data": {
      "image/png": "[encoded data removed]",
      "text/plain": [
       "<Figure size 800x500 with 1 Axes>"
      ]
     },
     "metadata": {},
     "output_type": "display_data"
    }
   ],
   "source": [
    "\n",
    "df[\"Weather Conditions\"] = df[\n",
    "    [\"Weather Conditions_Foggy\", \"Weather Conditions_Rainy\", \"Weather Conditions_Stormy\"]\n",
    "].idxmax(axis=1)\n",
    "\n",
    "# Replace column names with readable values\n",
    "df[\"Weather Conditions\"] = df[\"Weather Conditions\"].replace({\n",
    "    \"Weather Conditions_Foggy\": \"Foggy\",\n",
    "    \"Weather Conditions_Rainy\": \"Rainy\",\n",
    "    \"Weather Conditions_Stormy\": \"Stormy\"\n",
    "})\n",
    "\n",
    "# Plot Weather Conditions vs Delay Status\n",
    "plt.figure(figsize=(8, 5))\n",
    "sns.countplot(x=df[\"Weather Conditions\"], hue=df[\"Delay Status_On-Time\"], palette=\"coolwarm\")\n",
    "plt.xlabel(\"Weather Conditions\")\n",
    "plt.ylabel(\"Count\")\n",
    "plt.title(\"Weather Conditions vs Delay Status\")\n",
    "plt.legend(title=\"Delay Status\", labels=[\"Delayed\", \"On-Time\"])\n",
    "plt.xticks(rotation=45)\n",
    "plt.show()\n"
   ]
  },
  {
   "cell_type": "code",
   "execution_count": null,
   "id": "34d50d74-018b-4373-a6bd-ce58ad8c6f5e",
   "metadata": {},
   "outputs": [],
   "source": []
  },
  {
   "cell_type": "code",
   "execution_count": null,
   "id": "4012a1b7-62c7-4dde-b5d9-081d054e103e",
   "metadata": {},
   "outputs": [],
   "source": []
  }
 ],
 "metadata": {
  "kernelspec": {
   "display_name": "Python 3 (ipykernel)",
   "language": "python",
   "name": "python3"
  },
  "language_info": {
   "codemirror_mode": {
    "name": "ipython",
    "version": 3
   },
   "file_extension": ".py",
   "mimetype": "text/x-python",
   "name": "python",
   "nbconvert_exporter": "python",
   "pygments_lexer": "ipython3",
   "version": "3.12.4"
  }
 },
 "nbformat": 4,
 "nbformat_minor": 5
}
